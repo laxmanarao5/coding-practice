{
 "cells": [
  {
   "cell_type": "markdown",
   "metadata": {},
   "source": [
    "## Heading"
   ]
  },
  {
   "cell_type": "markdown",
   "metadata": {},
   "source": [
    "**Bold** <br>\n",
    "*italic*<br>\n",
    "***Bold italic***<br>\n",
    "* tab space is called indentation in python>"
   ]
  },
  {
   "cell_type": "markdown",
   "metadata": {},
   "source": [
    "- bullet point 1\n",
    "* bullet point 2"
   ]
  },
  {
   "cell_type": "markdown",
   "metadata": {},
   "source": [
    "1.number 1 <br>\n",
    "2.number 2 <br><br>\n",
    "> point 1 <br>\n"
   ]
  },
  {
   "cell_type": "code",
   "execution_count": 1,
   "metadata": {},
   "outputs": [
    {
     "data": {
      "text/plain": [
       "30"
      ]
     },
     "execution_count": 1,
     "metadata": {},
     "output_type": "execute_result"
    }
   ],
   "source": [
    "10+20"
   ]
  },
  {
   "cell_type": "markdown",
   "metadata": {},
   "source": [
    "### Welcome to python"
   ]
  },
  {
   "cell_type": "code",
   "execution_count": null,
   "metadata": {},
   "outputs": [
    {
     "name": "stdout",
     "output_type": "stream",
     "text": [
      "Welcome to Python programming\n"
     ]
    }
   ],
   "source": [
    "print(\"Welcome to Python programming\")"
   ]
  },
  {
   "cell_type": "markdown",
   "metadata": {},
   "source": [
    "### Input and output"
   ]
  },
  {
   "cell_type": "code",
   "execution_count": 13,
   "metadata": {},
   "outputs": [
    {
     "name": "stdout",
     "output_type": "stream",
     "text": [
      "10\n",
      "10\n",
      "2\n",
      "2\n",
      "3\n",
      "3\n"
     ]
    }
   ],
   "source": [
    "a=input()\n",
    "print(a)\n",
    "b=input()\n",
    "print(b)\n",
    "c=input()\n",
    "print(c)"
   ]
  },
  {
   "cell_type": "code",
   "execution_count": 14,
   "metadata": {},
   "outputs": [
    {
     "name": "stdout",
     "output_type": "stream",
     "text": [
      "<class 'float'>\n",
      "10.1\n"
     ]
    }
   ],
   "source": [
    "n=10.10\n",
    "print(type(n))\n",
    "print(str(n))"
   ]
  },
  {
   "cell_type": "markdown",
   "metadata": {},
   "source": [
    "### **Input method**"
   ]
  },
  {
   "cell_type": "code",
   "execution_count": null,
   "metadata": {},
   "outputs": [],
   "source": [
    "n=int(input(\"Enter an integer : \"))\n",
    "print(n)"
   ]
  },
  {
   "cell_type": "code",
   "execution_count": 15,
   "metadata": {},
   "outputs": [
    {
     "name": "stdout",
     "output_type": "stream",
     "text": [
      "1.6666666666666667\n",
      "1000000\n",
      "1\n"
     ]
    }
   ],
   "source": [
    "n=10\n",
    "a=6\n",
    "print(n/a)\n",
    "print(n**a)\n",
    "print(n//a)"
   ]
  },
  {
   "cell_type": "code",
   "execution_count": 16,
   "metadata": {},
   "outputs": [
    {
     "name": "stdout",
     "output_type": "stream",
     "text": [
      "10\n",
      "120\n",
      "120\n"
     ]
    }
   ],
   "source": [
    "a=10\n",
    "b=10 #Single variable assignment\n",
    "print(a)\n",
    "a=b=c=d=120 #Multiple variable assignment\n",
    "print(a)\n",
    "print(d)"
   ]
  },
  {
   "cell_type": "markdown",
   "metadata": {},
   "source": [
    "## Conditional Statements \n",
    "* If\n",
    "* if-else\n",
    "* elif\n",
    "* Nested if"
   ]
  },
  {
   "cell_type": "code",
   "execution_count": 17,
   "metadata": {},
   "outputs": [
    {
     "name": "stdout",
     "output_type": "stream",
     "text": [
      "Same\n"
     ]
    }
   ],
   "source": [
    "a=\"IIIT Srikakulam\"\n",
    "b=\"IIIT Srikakulam\"\n",
    "if(a==b):\n",
    "    print(\"Same\")\n",
    "else:\n",
    "    print(\"Different\")"
   ]
  },
  {
   "cell_type": "code",
   "execution_count": 18,
   "metadata": {},
   "outputs": [
    {
     "name": "stdout",
     "output_type": "stream",
     "text": [
      "Different\n"
     ]
    }
   ],
   "source": [
    "if a is b:\n",
    "    print(\"same\")\n",
    "else:\n",
    "    print(\"Different\")"
   ]
  },
  {
   "cell_type": "markdown",
   "metadata": {},
   "source": [
    "### print ID of a variable"
   ]
  },
  {
   "cell_type": "code",
   "execution_count": 19,
   "metadata": {},
   "outputs": [
    {
     "name": "stdout",
     "output_type": "stream",
     "text": [
      "1808839741744   1808839593712\n"
     ]
    }
   ],
   "source": [
    "print(id(a),\" \",id(b))"
   ]
  },
  {
   "cell_type": "code",
   "execution_count": 20,
   "metadata": {},
   "outputs": [
    {
     "name": "stdout",
     "output_type": "stream",
     "text": [
      "1808839741808   1808839741808\n"
     ]
    }
   ],
   "source": [
    "a=\"IIITSrikakulam\"\n",
    "b=\"IIITSrikakulam\"\n",
    "print(id(a),\" \",id(b))"
   ]
  },
  {
   "cell_type": "markdown",
   "metadata": {},
   "source": [
    "### Largest of three"
   ]
  },
  {
   "cell_type": "code",
   "execution_count": null,
   "metadata": {},
   "outputs": [],
   "source": [
    "a=int(input(\"Enter a number : \"))\n",
    "b=int(input(\"Enter another number : \"))\n",
    "c=int(input(\"Enter another number : \"))\n",
    "if(a>b and a>c):\n",
    "    print(a)\n",
    "elif(b>a and b>c):\n",
    "    print(b)\n",
    "else:\n",
    "    print(c)"
   ]
  },
  {
   "cell_type": "markdown",
   "metadata": {},
   "source": [
    "### Prime number"
   ]
  },
  {
   "cell_type": "code",
   "execution_count": 10,
   "metadata": {},
   "outputs": [
    {
     "name": "stdout",
     "output_type": "stream",
     "text": [
      "Enter a number : 7\n",
      "Prime number \n"
     ]
    }
   ],
   "source": [
    "n=int(input(\"Enter a number : \"))\n",
    "count=0\n",
    "for i in range(2,n):\n",
    "    if(n%i==0):\n",
    "        count=count+1\n",
    "if(count==0):\n",
    "    print(\"Prime number \")\n",
    "else:\n",
    "    print(\"Not a prime number \")"
   ]
  },
  {
   "cell_type": "markdown",
   "metadata": {},
   "source": [
    "### Multiplication Table"
   ]
  },
  {
   "cell_type": "code",
   "execution_count": 9,
   "metadata": {},
   "outputs": [
    {
     "name": "stdout",
     "output_type": "stream",
     "text": [
      "Enter a number : 12\n",
      "Enter lower limit : 1\n",
      "Enter upper limit : 10\n",
      "12 * 1 = 12\n",
      "12 * 2 = 12\n",
      "12 * 3 = 12\n",
      "12 * 4 = 12\n",
      "12 * 5 = 12\n",
      "12 * 6 = 12\n",
      "12 * 7 = 12\n",
      "12 * 8 = 12\n",
      "12 * 9 = 12\n",
      "12 * 10 = 12\n"
     ]
    }
   ],
   "source": [
    "n=int(input(\"Enter a number : \"))\n",
    "l=int(input(\"Enter lower limit : \"))\n",
    "u=int(input(\"Enter upper limit : \"))\n",
    "for i in range(l,u+1):\n",
    "    print(n,\"*\",i,\"=\",n*1)"
   ]
  },
  {
   "cell_type": "markdown",
   "metadata": {},
   "source": [
    "### Leap Year"
   ]
  },
  {
   "cell_type": "code",
   "execution_count": 8,
   "metadata": {},
   "outputs": [
    {
     "name": "stdout",
     "output_type": "stream",
     "text": [
      "Enter a year :2020\n",
      "Leap year\n"
     ]
    }
   ],
   "source": [
    "year=int(input(\"Enter a year :\"))\n",
    "if((year%4==0 and year%100!=0) or (year%400==0)):\n",
    "    print(\"Leap year\")\n",
    "else:\n",
    "    print(\"Not a leap year\")"
   ]
  },
  {
   "cell_type": "markdown",
   "metadata": {},
   "source": [
    "### Palindrome number"
   ]
  },
  {
   "cell_type": "code",
   "execution_count": 5,
   "metadata": {},
   "outputs": [
    {
     "name": "stdout",
     "output_type": "stream",
     "text": [
      "Enter a number : 121\n",
      "Palindrome\n"
     ]
    }
   ],
   "source": [
    "n=int(input(\"Enter a number : \"))\n",
    "num=0\n",
    "k=n\n",
    "p=0\n",
    "while(k>0):\n",
    "    rem=k%10\n",
    "    p=p*10+rem\n",
    "    k=k//10\n",
    "if(n==p):\n",
    "    print(\"Palindrome\")\n",
    "else:\n",
    "    print(\"Not a palindrome\")"
   ]
  },
  {
   "cell_type": "markdown",
   "metadata": {},
   "source": [
    "### Factorial of number"
   ]
  },
  {
   "cell_type": "code",
   "execution_count": 7,
   "metadata": {},
   "outputs": [
    {
     "name": "stdout",
     "output_type": "stream",
     "text": [
      "Enter a number : 6\n",
      "Factorial of  6  is  720\n"
     ]
    }
   ],
   "source": [
    "n=int(input(\"Enter a number : \"))\n",
    "fact=1\n",
    "for i in range(1,n+1):\n",
    "    fact=fact*i\n",
    "print(\"Factorial of \",n,\" is \",fact)"
   ]
  },
  {
   "cell_type": "markdown",
   "metadata": {},
   "source": [
    "### Factorials upto"
   ]
  },
  {
   "cell_type": "code",
   "execution_count": 6,
   "metadata": {},
   "outputs": [
    {
     "name": "stdout",
     "output_type": "stream",
     "text": [
      "Enter a number : 5\n",
      "factorial of  1  is  1\n",
      "factorial of  2  is  2\n",
      "factorial of  3  is  6\n",
      "factorial of  4  is  24\n",
      "factorial of  5  is  120\n"
     ]
    }
   ],
   "source": [
    "n=int(input(\"Enter a number : \"))\n",
    "fact=1\n",
    "for i in range(1,n+1):\n",
    "    fact=fact*i\n",
    "    print(\"factorial of \",i,\" is \",fact)"
   ]
  },
  {
   "cell_type": "markdown",
   "metadata": {},
   "source": [
    "### Sorting a String"
   ]
  },
  {
   "cell_type": "code",
   "execution_count": 4,
   "metadata": {},
   "outputs": [
    {
     "name": "stdout",
     "output_type": "stream",
     "text": [
      "Enter the string : laxnman b\n",
      "b laxnman\n"
     ]
    }
   ],
   "source": [
    "string=input(\"Enter the string : \")\n",
    "words=string.split()\n",
    "words.sort()\n",
    "print(\" \".join(words))"
   ]
  },
  {
   "cell_type": "markdown",
   "metadata": {},
   "source": [
    "### Count of integers , characters, and special symbols"
   ]
  },
  {
   "cell_type": "code",
   "execution_count": 2,
   "metadata": {
    "scrolled": true
   },
   "outputs": [
    {
     "name": "stdout",
     "output_type": "stream",
     "text": [
      "Enter a string : laxman@123 ra#0\n",
      "Total no of integers are  4\n",
      "Total no of characters are  8\n",
      "Total no of spaces are  1\n",
      "Total no of symbols are  2\n"
     ]
    }
   ],
   "source": [
    "string=input(\"Enter a string : \")\n",
    "integer=0\n",
    "ch=0\n",
    "ss=0\n",
    "length=0\n",
    "for i in string:\n",
    "    if(i.isdigit()):\n",
    "        integer=integer+1\n",
    "    if(i.isalpha()):\n",
    "        ch=ch+1\n",
    "    if(i.isspace()):\n",
    "        ss=ss+1\n",
    "    length=length+1\n",
    "print(\"Total no of integers are \",integer)\n",
    "print(\"Total no of characters are \",ch)\n",
    "print(\"Total no of spaces are \",ss)\n",
    "print(\"Total no of symbols are \",length-integer-ch-ss)"
   ]
  },
  {
   "cell_type": "markdown",
   "metadata": {},
   "source": [
    "### Print list,tuple of a string"
   ]
  },
  {
   "cell_type": "code",
   "execution_count": 5,
   "metadata": {},
   "outputs": [
    {
     "name": "stdout",
     "output_type": "stream",
     "text": [
      "Enter a string : laxman,lokesh,venky,devil\n",
      "['laxman', 'lokesh', 'venky', 'devil']\n",
      "('laxman', 'lokesh', 'venky', 'devil')\n"
     ]
    }
   ],
   "source": [
    "string=input(\"Enter a string : \")\n",
    "words=string.split(',')\n",
    "print(list(words))\n",
    "print(tuple(words))"
   ]
  },
  {
   "cell_type": "markdown",
   "metadata": {},
   "source": [
    "### Even or Odd"
   ]
  },
  {
   "cell_type": "code",
   "execution_count": 1,
   "metadata": {},
   "outputs": [
    {
     "name": "stdout",
     "output_type": "stream",
     "text": [
      "Enter a number : 10\n",
      "Even number\n"
     ]
    }
   ],
   "source": [
    "a=int(input(\"Enter a number : \"))\n",
    "if(a%2==0):\n",
    "    print(\"Even number\")\n",
    "else:\n",
    "    print(\"Odd number\")"
   ]
  },
  {
   "cell_type": "markdown",
   "metadata": {},
   "source": [
    "### Positive negative or zero"
   ]
  },
  {
   "cell_type": "code",
   "execution_count": 2,
   "metadata": {},
   "outputs": [
    {
     "name": "stdout",
     "output_type": "stream",
     "text": [
      "Enter a number : -3\n",
      "Negative\n"
     ]
    }
   ],
   "source": [
    "a=int(input(\"Enter a number : \"))\n",
    "if(a>0):\n",
    "    print(\"Positive \")\n",
    "elif(a==0):\n",
    "    print(\"Zero\")\n",
    "else:\n",
    "    print(\"Negative\")"
   ]
  },
  {
   "cell_type": "markdown",
   "metadata": {},
   "source": [
    "### Positive negative or zero using nested if"
   ]
  },
  {
   "cell_type": "code",
   "execution_count": 3,
   "metadata": {},
   "outputs": [
    {
     "name": "stdout",
     "output_type": "stream",
     "text": [
      "Enter a number : 0\n",
      "Zero\n"
     ]
    }
   ],
   "source": [
    "a=int(input(\"Enter a number : \"))\n",
    "if(a>=0):\n",
    "    if(a>0):\n",
    "        print(\"Positive\")\n",
    "    else:\n",
    "        print(\"Zero\")\n",
    "else:\n",
    "    print(\"Negative\")"
   ]
  },
  {
   "cell_type": "markdown",
   "metadata": {},
   "source": [
    "### Vote eligibility"
   ]
  },
  {
   "cell_type": "code",
   "execution_count": 4,
   "metadata": {},
   "outputs": [
    {
     "name": "stdout",
     "output_type": "stream",
     "text": [
      "Enter your age : 19\n",
      "Your are eligible for voting\n"
     ]
    }
   ],
   "source": [
    "a=int(input(\"Enter your age : \"))\n",
    "if(a>18):\n",
    "    print(\"Your are eligible for voting\")\n",
    "else:\n",
    "    print(\"Your not eligible for voting\")"
   ]
  },
  {
   "cell_type": "markdown",
   "metadata": {},
   "source": [
    "### Password checking"
   ]
  },
  {
   "cell_type": "code",
   "execution_count": 7,
   "metadata": {},
   "outputs": [
    {
     "name": "stdout",
     "output_type": "stream",
     "text": [
      "Enter your username : laxmanarao\n",
      "Enter your password : laxmana123\n",
      "Welcome  laxmanarao\n"
     ]
    }
   ],
   "source": [
    "u=\"laxmanarao\"\n",
    "p=\"laxmana123\"\n",
    "ui=input(\"Enter your username : \")\n",
    "if(ui==u):\n",
    "    pi=input(\"Enter your password : \")\n",
    "    if(pi==p):\n",
    "        print(\"Welcome \",u)\n",
    "    else:\n",
    "        print(\"Invalid password\")\n",
    "else:\n",
    "    print(\"User not registered\")"
   ]
  },
  {
   "cell_type": "markdown",
   "metadata": {},
   "source": [
    "### Registration"
   ]
  },
  {
   "cell_type": "code",
   "execution_count": 1,
   "metadata": {},
   "outputs": [
    {
     "name": "stdout",
     "output_type": "stream",
     "text": [
      "Enter your first name : laxman\n",
      "Enter your last name : b\n",
      "Enter your password : laxmana123\n",
      "Confirm your password : laxmana123\n",
      "Enter your phone number : 8367\n",
      "Invalid phone number\n",
      "Enter your phone number : 8367027220\n",
      "Registration sucessful\n"
     ]
    }
   ],
   "source": [
    "f_name=input(\"Enter your first name : \")\n",
    "l_name=input(\"Enter your last name : \")\n",
    "def passwd():\n",
    "    p=input(\"Enter your password : \")\n",
    "    pv=input(\"Confirm your password : \")\n",
    "    if(p==pv):\n",
    "        c=0\n",
    "    else:\n",
    "        print(\"Password does not match\")\n",
    "        passwd()\n",
    "passwd()\n",
    "def phno():\n",
    "    p_no=int(input(\"Enter your phone number : \"))\n",
    "    count=0\n",
    "    temp=p_no\n",
    "    while(temp>0):\n",
    "        rem=temp%10\n",
    "        count+=1\n",
    "        temp=temp//10\n",
    "    if(count!=10):\n",
    "        print(\"Invalid phone number\")\n",
    "        phno()\n",
    "phno()\n",
    "print(\"Registration sucessful\")"
   ]
  },
  {
   "cell_type": "markdown",
   "metadata": {},
   "source": [
    "### Print digits in reverse order"
   ]
  },
  {
   "cell_type": "code",
   "execution_count": 1,
   "metadata": {},
   "outputs": [
    {
     "name": "stdout",
     "output_type": "stream",
     "text": [
      "10 9 8 7 6 5 4 3 2 1 "
     ]
    }
   ],
   "source": [
    "for i in range(10,0,-1):\n",
    "    print(i,end=\" \")"
   ]
  },
  {
   "cell_type": "markdown",
   "metadata": {},
   "source": [
    "### Pattern 1"
   ]
  },
  {
   "cell_type": "code",
   "execution_count": 11,
   "metadata": {},
   "outputs": [
    {
     "name": "stdout",
     "output_type": "stream",
     "text": [
      "Enter number of rows : 5\n",
      "* * * * * \n",
      "* * * * * \n",
      "* * * * * \n",
      "* * * * * \n",
      "* * * * * \n"
     ]
    }
   ],
   "source": [
    "n=int(input(\"Enter number of rows : \"))\n",
    "for i in range(1,n+1):\n",
    "    for j in range(1,n+1):\n",
    "        print(\"*\",end=\" \")\n",
    "    print()"
   ]
  },
  {
   "cell_type": "markdown",
   "metadata": {},
   "source": [
    "### Pattern 2"
   ]
  },
  {
   "cell_type": "code",
   "execution_count": 13,
   "metadata": {},
   "outputs": [
    {
     "name": "stdout",
     "output_type": "stream",
     "text": [
      "Enter number of rows : 6\n",
      "* * * \n",
      "* * * \n",
      "* * * \n",
      "* * * \n",
      "* * * \n",
      "* * * \n"
     ]
    }
   ],
   "source": [
    "n=int(input(\"Enter number of rows : \"))\n",
    "for i in range(1,n+1):\n",
    "    for j in range(n+1,1,-2):\n",
    "        print(\"*\",end=\" \")\n",
    "    print()"
   ]
  },
  {
   "cell_type": "markdown",
   "metadata": {},
   "source": [
    "### Pattern 3"
   ]
  },
  {
   "cell_type": "code",
   "execution_count": 27,
   "metadata": {},
   "outputs": [
    {
     "name": "stdout",
     "output_type": "stream",
     "text": [
      "Enter number of rows : 6\n",
      "* * * * * * \n",
      "*         * \n",
      "*         * \n",
      "*         * \n",
      "*         * \n",
      "* * * * * * \n"
     ]
    }
   ],
   "source": [
    "n=int(input(\"Enter number of rows : \"))\n",
    "for i in range(1,n+1):\n",
    "    for j in range(1,n+1):\n",
    "        if i==1 or i==n or j==1 or j==n :\n",
    "            print(\"*\",end=\" \")\n",
    "        else:\n",
    "            print(end=\"  \")\n",
    "    print()"
   ]
  },
  {
   "cell_type": "markdown",
   "metadata": {},
   "source": [
    "### Pattern 4"
   ]
  },
  {
   "cell_type": "code",
   "execution_count": 45,
   "metadata": {},
   "outputs": [
    {
     "name": "stdout",
     "output_type": "stream",
     "text": [
      "Enter number of rows : 5\n",
      "*          * \n",
      "   *    *    \n",
      "      *       \n",
      "   *    *    \n",
      "*          * \n"
     ]
    }
   ],
   "source": [
    "n=int(input(\"Enter number of rows : \"))\n",
    "for i in range(1,n+1):\n",
    "    for j in range(1,n+1):\n",
    "        if i==j or i+j==n+1:\n",
    "            print(\"*\",end=\" \")\n",
    "        else:\n",
    "            print(\" \",end=\"  \")\n",
    "    print()"
   ]
  },
  {
   "cell_type": "markdown",
   "metadata": {},
   "source": [
    "### Calender month and using format"
   ]
  },
  {
   "cell_type": "code",
   "execution_count": 1,
   "metadata": {},
   "outputs": [
    {
     "name": "stdout",
     "output_type": "stream",
     "text": [
      "Enter a number : 31\n",
      "01 02 03 04 05 06 07 \n",
      "08 09 10 11 12 13 14 \n",
      "15 16 17 18 19 20 21 \n",
      "22 23 24 25 26 27 28 \n",
      "29 30 31 \n"
     ]
    }
   ],
   "source": [
    "n=int(input(\"Enter a number : \"))\n",
    "k=n//7\n",
    "k=k+1\n",
    "p=0\n",
    "for i in range(1,k+1):\n",
    "    for j in range(1,7+1):\n",
    "        p=p+1\n",
    "        if p==n+1:\n",
    "            break\n",
    "        print(\"{:02}\".format(p),end=\" \")\n",
    "    print()"
   ]
  },
  {
   "cell_type": "markdown",
   "metadata": {},
   "source": [
    "### Web browser and time packages"
   ]
  },
  {
   "cell_type": "code",
   "execution_count": 4,
   "metadata": {},
   "outputs": [
    {
     "name": "stdout",
     "output_type": "stream",
     "text": [
      "System time is  Tue Feb 11 13:49:07 2020\n",
      "1.Youtube\n",
      "2.Gmail\n",
      "3.Cricbuzz\n",
      "4.State Bank INB\n",
      "5.Amazon\n",
      "6.Google classroom\n",
      "Enter your choice : 3\n"
     ]
    }
   ],
   "source": [
    "import time\n",
    "import webbrowser\n",
    "print(\"System time is \",time.ctime())\n",
    "print(\"1.Youtube\")\n",
    "print(\"2.Gmail\")\n",
    "print(\"3.Cricbuzz\")\n",
    "print(\"4.State Bank INB\")\n",
    "print(\"5.Amazon\")\n",
    "print(\"6.Google classroom\")\n",
    "count=int(input(\"Enter your choice : \"))\n",
    "if count==1:\n",
    "    webbrowser.open(\"https://www.youtube.com/\")\n",
    "elif count==2:\n",
    "    webbrowser.open(\"https://mail.google.com/mail/u/0/#inbox\")\n",
    "elif count==3:\n",
    "    webbrowser.open(\"https://www.cricbuzz.com/\")\n",
    "elif count==4:\n",
    "    webbrowser.open(\"https://retail.onlinesbi.com/retail/login.htm\")\n",
    "elif count==5:\n",
    "    webbrowser.open(\"https://www.amazon.in/\")\n",
    "elif count==6:\n",
    "    webbrowser.open(\"https://classroom.google.com/u/2/h/\")\n",
    "else:\n",
    "    print(\"Inavalid input\")"
   ]
  },
  {
   "cell_type": "markdown",
   "metadata": {},
   "source": [
    "### Sum,Count,Number of even indexed digits of a number"
   ]
  },
  {
   "cell_type": "code",
   "execution_count": 1,
   "metadata": {},
   "outputs": [
    {
     "name": "stdout",
     "output_type": "stream",
     "text": [
      "Enter a number : 1534674657\n",
      "Count is  5\n",
      "Sum is  29\n",
      "number is  54767\n"
     ]
    }
   ],
   "source": [
    "n=int(input(\"Enter a number : \"))\n",
    "count=0\n",
    "sum=0\n",
    "num=0\n",
    "k=0\n",
    "p=n\n",
    "while(p>0):\n",
    "    rem=p%10\n",
    "    count=count+1\n",
    "    sum=sum+rem\n",
    "    k=k*10+rem\n",
    "    p=p//100\n",
    "while(k>0):\n",
    "    rem=k%10\n",
    "    num=num*10+rem\n",
    "    k=k//10\n",
    "print(\"Count is \",count)\n",
    "print(\"Sum is \",sum)\n",
    "print(\"number is \",num)"
   ]
  },
  {
   "cell_type": "markdown",
   "metadata": {},
   "source": [
    "### Sum,Count,Number of odd indexed digits of a number"
   ]
  },
  {
   "cell_type": "code",
   "execution_count": 3,
   "metadata": {},
   "outputs": [
    {
     "name": "stdout",
     "output_type": "stream",
     "text": [
      "Enter a number : 15346746574\n",
      "Count is  6\n",
      "Sum is  23\n",
      "number is  136454\n"
     ]
    }
   ],
   "source": [
    "n=int(input(\"Enter a number : \"))\n",
    "count=0\n",
    "sum=0\n",
    "num=0\n",
    "k=n\n",
    "p=0\n",
    "while(k>0):\n",
    "    rem=k%10\n",
    "    p=p*10+rem\n",
    "    k=k//10\n",
    "while(p>0):\n",
    "    rem=p%10\n",
    "    count=count+1\n",
    "    sum=sum+rem\n",
    "    num=num*10+rem\n",
    "    p=p//100\n",
    "\n",
    "print(\"Count is \",count)\n",
    "print(\"Sum is \",sum)\n",
    "print(\"number is \",num)"
   ]
  },
  {
   "cell_type": "markdown",
   "metadata": {},
   "source": [
    "### Sum,Count,Number of even digits of a number"
   ]
  },
  {
   "cell_type": "code",
   "execution_count": 9,
   "metadata": {},
   "outputs": [
    {
     "name": "stdout",
     "output_type": "stream",
     "text": [
      "Enter a number : 1246354\n",
      "Count is  4\n",
      "Sum is  16\n",
      "Number is  2464\n"
     ]
    }
   ],
   "source": [
    "n=int(input(\"Enter a number : \"))\n",
    "p=n\n",
    "count=0\n",
    "sum=0\n",
    "num=0\n",
    "k=0\n",
    "while p>0:\n",
    "    rem=p%10\n",
    "    if(rem%2==0):\n",
    "        k=k*10+rem\n",
    "        sum=sum+rem\n",
    "        count=count+1\n",
    "    p=p//10\n",
    "while k>0:\n",
    "    rem=k%10\n",
    "    num=num*10+rem\n",
    "    k=k//10\n",
    "print(\"Count is \",count)\n",
    "print(\"Sum is \",sum)\n",
    "print(\"Number is \",num)"
   ]
  },
  {
   "cell_type": "markdown",
   "metadata": {},
   "source": [
    "## Strings"
   ]
  },
  {
   "cell_type": "markdown",
   "metadata": {},
   "source": [
    "### Acessing string"
   ]
  },
  {
   "cell_type": "code",
   "execution_count": 42,
   "metadata": {},
   "outputs": [
    {
     "name": "stdout",
     "output_type": "stream",
     "text": [
      "L\n",
      "HELL\n",
      "HELLO\n",
      "HLO\n",
      "OLLEH\n",
      "IIIT malukakirS\n",
      "IIIT malukakirS\n",
      "irS TIII\n",
      "i\n"
     ]
    }
   ],
   "source": [
    "s=\"HELLO\"\n",
    "print(s[3])\n",
    "print(s[0:4:1])\n",
    "print(s)\n",
    "print(s[::2])\n",
    "print(s[-1:-6:-1])\n",
    "s=\"IIIT Srikakulam\"\n",
    "print(s[0:4],end=\" \")\n",
    "print(s[-1:-11:-1])\n",
    "print(s[0:4]+s[4]+s[-1:-11:-1])\n",
    "print(s[-8:-16:-1])\n",
    "if(len(s)%2==0):\n",
    "    length=len(s)//2\n",
    "    length+=1\n",
    "    print(s[len(s)//2],end=\" \")\n",
    "    print(s[length])\n",
    "else:\n",
    "    print(s[len(s)//2])"
   ]
  },
  {
   "cell_type": "markdown",
   "metadata": {},
   "source": [
    "### Palindrome"
   ]
  },
  {
   "cell_type": "code",
   "execution_count": 32,
   "metadata": {},
   "outputs": [
    {
     "name": "stdout",
     "output_type": "stream",
     "text": [
      "Enter a string : madam\n",
      "Palindrome\n"
     ]
    }
   ],
   "source": [
    "s=input(\"Enter a string : \")\n",
    "count=0\n",
    "s1=s[-1:-len(s)-1:-1]\n",
    "if s==s1:\n",
    "    print(\"Palindrome\")\n",
    "else:\n",
    "    print(\"Not a palindrome\")"
   ]
  },
  {
   "cell_type": "markdown",
   "metadata": {},
   "source": [
    "### Length"
   ]
  },
  {
   "cell_type": "code",
   "execution_count": 33,
   "metadata": {},
   "outputs": [
    {
     "data": {
      "text/plain": [
       "5"
      ]
     },
     "execution_count": 33,
     "metadata": {},
     "output_type": "execute_result"
    }
   ],
   "source": [
    "len(s)"
   ]
  },
  {
   "cell_type": "markdown",
   "metadata": {},
   "source": [
    "### Zfill and center"
   ]
  },
  {
   "cell_type": "code",
   "execution_count": 48,
   "metadata": {},
   "outputs": [
    {
     "name": "stdout",
     "output_type": "stream",
     "text": [
      "Enter a string : laxmanarao\n",
      "laxmanarao\n",
      "********laxmanarao*******\n"
     ]
    }
   ],
   "source": [
    "s=input(\"Enter a string : \")\n",
    "print(s.zfill(10))\n",
    "print(s.center(25,\"*\"))"
   ]
  },
  {
   "cell_type": "markdown",
   "metadata": {},
   "source": [
    "### All operations"
   ]
  },
  {
   "cell_type": "code",
   "execution_count": 55,
   "metadata": {},
   "outputs": [
    {
     "name": "stdout",
     "output_type": "stream",
     "text": [
      "['__add__', '__class__', '__contains__', '__delattr__', '__dir__', '__doc__', '__eq__', '__format__', '__ge__', '__getattribute__', '__getitem__', '__getnewargs__', '__gt__', '__hash__', '__init__', '__init_subclass__', '__iter__', '__le__', '__len__', '__lt__', '__mod__', '__mul__', '__ne__', '__new__', '__reduce__', '__reduce_ex__', '__repr__', '__rmod__', '__rmul__', '__setattr__', '__sizeof__', '__str__', '__subclasshook__', 'capitalize', 'casefold', 'center', 'count', 'encode', 'endswith', 'expandtabs', 'find', 'format', 'format_map', 'index', 'isalnum', 'isalpha', 'isascii', 'isdecimal', 'isdigit', 'isidentifier', 'islower', 'isnumeric', 'isprintable', 'isspace', 'istitle', 'isupper', 'join', 'ljust', 'lower', 'lstrip', 'maketrans', 'partition', 'replace', 'rfind', 'rindex', 'rjust', 'rpartition', 'rsplit', 'rstrip', 'split', 'splitlines', 'startswith', 'strip', 'swapcase', 'title', 'translate', 'upper', 'zfill']\n"
     ]
    }
   ],
   "source": [
    "print(dir(s))"
   ]
  },
  {
   "cell_type": "markdown",
   "metadata": {},
   "source": [
    "### Split using white space"
   ]
  },
  {
   "cell_type": "code",
   "execution_count": 49,
   "metadata": {},
   "outputs": [
    {
     "name": "stdout",
     "output_type": "stream",
     "text": [
      "Enter a number : laxmana rao boddepalli\n"
     ]
    },
    {
     "data": {
      "text/plain": [
       "['laxmana', 'rao', 'boddepalli']"
      ]
     },
     "execution_count": 49,
     "metadata": {},
     "output_type": "execute_result"
    }
   ],
   "source": [
    "s=input(\"Enter a number : \")\n",
    "print(s.split())"
   ]
  },
  {
   "cell_type": "markdown",
   "metadata": {},
   "source": [
    "### Split using coma"
   ]
  },
  {
   "cell_type": "code",
   "execution_count": 53,
   "metadata": {},
   "outputs": [
    {
     "name": "stdout",
     "output_type": "stream",
     "text": [
      "Enter a string : laxmana,rao,boddepalli\n",
      "['laxmana', 'rao', 'boddepalli']\n"
     ]
    }
   ],
   "source": [
    "s=input(\"Enter a string : \")\n",
    "print(s.split(\",\"))"
   ]
  },
  {
   "cell_type": "markdown",
   "metadata": {},
   "source": [
    "### Split using character"
   ]
  },
  {
   "cell_type": "code",
   "execution_count": 54,
   "metadata": {},
   "outputs": [
    {
     "name": "stdout",
     "output_type": "stream",
     "text": [
      "Enter a string : lakshmankav\n",
      "['la', 'shman', 'av']\n"
     ]
    }
   ],
   "source": [
    "s=input(\"Enter a string : \")\n",
    "print(s.split(\"k\"))"
   ]
  },
  {
   "cell_type": "markdown",
   "metadata": {},
   "source": [
    "### Join"
   ]
  },
  {
   "cell_type": "code",
   "execution_count": 58,
   "metadata": {},
   "outputs": [
    {
     "name": "stdout",
     "output_type": "stream",
     "text": [
      "Enter a string : laxman\n",
      "l@a@x@m@a@n\n",
      "l a x m a n\n"
     ]
    }
   ],
   "source": [
    "s=input(\"Enter a string : \")\n",
    "print(\"@\".join(s))\n",
    "print(\" \".join(s))"
   ]
  },
  {
   "cell_type": "markdown",
   "metadata": {},
   "source": [
    "### Split"
   ]
  },
  {
   "cell_type": "code",
   "execution_count": 62,
   "metadata": {},
   "outputs": [
    {
     "name": "stdout",
     "output_type": "stream",
     "text": [
      "Enter a string : laxman rao\n"
     ]
    },
    {
     "data": {
      "text/plain": [
       "'laxman@rao'"
      ]
     },
     "execution_count": 62,
     "metadata": {},
     "output_type": "execute_result"
    }
   ],
   "source": [
    "s=input(\"Enter a string : \")\n",
    "s4=s.split()\n",
    "print(\"@\".join(s4))"
   ]
  },
  {
   "cell_type": "markdown",
   "metadata": {},
   "source": [
    "### Split and join"
   ]
  },
  {
   "cell_type": "code",
   "execution_count": 63,
   "metadata": {},
   "outputs": [
    {
     "name": "stdout",
     "output_type": "stream",
     "text": [
      "Enter a string : laxman rao\n",
      "laxmanrao\n"
     ]
    }
   ],
   "source": [
    "s=input(\"Enter a string : \")\n",
    "s4=s.split()\n",
    "print(\"\".join(s4))"
   ]
  },
  {
   "cell_type": "markdown",
   "metadata": {},
   "source": [
    "### Replace"
   ]
  },
  {
   "cell_type": "code",
   "execution_count": 64,
   "metadata": {},
   "outputs": [
    {
     "name": "stdout",
     "output_type": "stream",
     "text": [
      "Enter a string : laxmana rao\n",
      "laxmanarao\n"
     ]
    }
   ],
   "source": [
    "s=input(\"Enter a string : \")\n",
    "print(s.replace(\" \",\"\"))"
   ]
  },
  {
   "cell_type": "markdown",
   "metadata": {},
   "source": [
    "### Strip"
   ]
  },
  {
   "cell_type": "code",
   "execution_count": 67,
   "metadata": {},
   "outputs": [
    {
     "name": "stdout",
     "output_type": "stream",
     "text": [
      "Ente a string :       laxmana rao    \n",
      "laxmana rao\n",
      "      laxmana rao\n",
      "laxmana rao    \n"
     ]
    }
   ],
   "source": [
    "s=input(\"Ente a string : \")\n",
    "print(s.strip())\n",
    "print(s.rstrip())\n",
    "print(s.lstrip())"
   ]
  },
  {
   "cell_type": "markdown",
   "metadata": {},
   "source": [
    "### Count"
   ]
  },
  {
   "cell_type": "code",
   "execution_count": 69,
   "metadata": {},
   "outputs": [
    {
     "name": "stdout",
     "output_type": "stream",
     "text": [
      "Enter a string : laxmana rao\n",
      "1\n",
      "4\n"
     ]
    }
   ],
   "source": [
    "s=input(\"Enter a string : \")\n",
    "print(s.count(\"lax\"))\n",
    "print(s.count(\"a\"))"
   ]
  },
  {
   "cell_type": "markdown",
   "metadata": {},
   "source": [
    "## Functions\n",
    "### In-build functions"
   ]
  },
  {
   "cell_type": "code",
   "execution_count": 4,
   "metadata": {},
   "outputs": [
    {
     "name": "stdout",
     "output_type": "stream",
     "text": [
      "4\n",
      "hi\n",
      "0b1100111010011100\n",
      "0xce9c\n",
      "0o147234\n"
     ]
    }
   ],
   "source": [
    "print(abs(-4))\n",
    "print(\"hi\")\n",
    "print(bin(52892))\n",
    "print(hex(52892))\n",
    "print(oct(52892))"
   ]
  },
  {
   "cell_type": "markdown",
   "metadata": {},
   "source": [
    "### User defined functions\n",
    "\n",
    "* Without arguments without return type\n",
    "* Without arguments with return type\n",
    "* with argument without return type\n",
    "* with argument with return type\n",
    "#### Arguments\n",
    "* Required arguments\n",
    "* Defalt arguments\n",
    "* Keyword arguments\n",
    "* Variable length arguments"
   ]
  },
  {
   "cell_type": "code",
   "execution_count": 5,
   "metadata": {},
   "outputs": [
    {
     "ename": "TypeError",
     "evalue": "fn() missing 1 required positional argument: 'b'",
     "output_type": "error",
     "traceback": [
      "\u001b[1;31m---------------------------------------------------------------------------\u001b[0m",
      "\u001b[1;31mTypeError\u001b[0m                                 Traceback (most recent call last)",
      "\u001b[1;32m<ipython-input-5-761d7d1b78a9>\u001b[0m in \u001b[0;36m<module>\u001b[1;34m\u001b[0m\n\u001b[0;32m      3\u001b[0m     \u001b[1;32mreturn\u001b[0m \u001b[0ma\u001b[0m\u001b[1;33m+\u001b[0m\u001b[0mb\u001b[0m\u001b[1;33m\u001b[0m\u001b[1;33m\u001b[0m\u001b[0m\n\u001b[0;32m      4\u001b[0m \u001b[0mfn\u001b[0m\u001b[1;33m(\u001b[0m\u001b[1;36m10\u001b[0m\u001b[1;33m,\u001b[0m\u001b[1;36m20\u001b[0m\u001b[1;33m)\u001b[0m\u001b[1;33m\u001b[0m\u001b[1;33m\u001b[0m\u001b[0m\n\u001b[1;32m----> 5\u001b[1;33m \u001b[0mfn\u001b[0m\u001b[1;33m(\u001b[0m\u001b[1;36m10\u001b[0m\u001b[1;33m)\u001b[0m\u001b[1;33m\u001b[0m\u001b[1;33m\u001b[0m\u001b[0m\n\u001b[0m",
      "\u001b[1;31mTypeError\u001b[0m: fn() missing 1 required positional argument: 'b'"
     ]
    }
   ],
   "source": [
    "# required arguments\n",
    "def fn(a,b):\n",
    "    return a+b\n",
    "fn(10,20)\n",
    "fn(10)"
   ]
  },
  {
   "cell_type": "code",
   "execution_count": 8,
   "metadata": {},
   "outputs": [
    {
     "name": "stdout",
     "output_type": "stream",
     "text": [
      "30\n",
      "15\n"
     ]
    }
   ],
   "source": [
    "# Default Arguments\n",
    "def fn(a,b=5):\n",
    "    return a+b\n",
    "print(fn(10,20))\n",
    "print(fn(10))"
   ]
  },
  {
   "cell_type": "code",
   "execution_count": 10,
   "metadata": {},
   "outputs": [
    {
     "data": {
      "text/plain": [
       "('laxman', 25)"
      ]
     },
     "execution_count": 10,
     "metadata": {},
     "output_type": "execute_result"
    }
   ],
   "source": [
    "#keyword arguments\n",
    "def fn(name,age):\n",
    "    return name,age\n",
    "fn(age=25,name=\"laxman\")"
   ]
  },
  {
   "cell_type": "code",
   "execution_count": 11,
   "metadata": {},
   "outputs": [
    {
     "name": "stdout",
     "output_type": "stream",
     "text": [
      "15\n",
      "60\n"
     ]
    }
   ],
   "source": [
    "# Variable length arguments\n",
    "def fn(*a):\n",
    "    return sum(a)\n",
    "print(fn(1,2,3,4,5))\n",
    "print(fn(10,20,30))"
   ]
  },
  {
   "cell_type": "code",
   "execution_count": 30,
   "metadata": {},
   "outputs": [],
   "source": [
    "def prime(a):\n",
    "    count=0\n",
    "    for i in range(2,a):\n",
    "        if(a%i==0):\n",
    "            count=count+1\n",
    "    if(count==0):\n",
    "        return True"
   ]
  },
  {
   "cell_type": "code",
   "execution_count": 34,
   "metadata": {},
   "outputs": [],
   "source": [
    "def primel(l,u):\n",
    "    count=0\n",
    "    if(l<2):\n",
    "        l=2\n",
    "    for i in range(l,u+1):\n",
    "        if prime(i):\n",
    "            print(i,end=\" \")\n",
    "            count=count+1\n",
    "    print(\"\\nTotal prime numbers are \",count)"
   ]
  },
  {
   "cell_type": "code",
   "execution_count": 32,
   "metadata": {},
   "outputs": [
    {
     "name": "stdout",
     "output_type": "stream",
     "text": [
      "Enter a number : 5\n",
      "Prime\n"
     ]
    }
   ],
   "source": [
    "a=int(input(\"Enter a number : \"))\n",
    "d=prime(a)\n",
    "if(d==1):\n",
    "    print(\"Prime\")\n",
    "else:\n",
    "    print(\"Not prime\")"
   ]
  },
  {
   "cell_type": "code",
   "execution_count": 35,
   "metadata": {},
   "outputs": [
    {
     "name": "stdout",
     "output_type": "stream",
     "text": [
      "Enter lower limit :-5\n",
      "Enter upper limit : 100\n",
      "2 3 5 7 11 13 17 19 23 29 31 37 41 43 47 53 59 61 67 71 73 79 83 89 97 \n",
      "Total prime numbers are  25\n"
     ]
    }
   ],
   "source": [
    "a=int(input(\"Enter lower limit :\"))\n",
    "b=int(input(\"Enter upper limit : \"))\n",
    "primel(a,b)"
   ]
  },
  {
   "cell_type": "markdown",
   "metadata": {},
   "source": [
    "## Data structures\n",
    "* List\n",
    "* Tuple\n",
    "* Set\n",
    "* Dictionaries"
   ]
  },
  {
   "cell_type": "code",
   "execution_count": 44,
   "metadata": {},
   "outputs": [
    {
     "name": "stdout",
     "output_type": "stream",
     "text": [
      "[1, 2, 'hi', 'hello', [5, 2, 8, 9, 2]]\n",
      "[1, 2, 'hi', 'hello', [5, 2, 8, 9, 2], 5, 2, 8, 9, 2]\n",
      "Enter string : lax\n",
      "[1, 2, 'lax', 'hi', 'hello', [5, 2, 8, 9, 2], 5, 2, 8, 9, 2]\n"
     ]
    }
   ],
   "source": [
    "li = [1,2,\"hi\",\"hello\"]\n",
    "l1=li.copy()\n",
    "l2=[5,2,8,9,2]\n",
    "l1.append(l2)\n",
    "print(l1)\n",
    "l1=l1+l2\n",
    "print(l1)\n",
    "n=input(\"Enter string : \")\n",
    "l1.insert(2,n)\n",
    "print(l1)"
   ]
  },
  {
   "cell_type": "code",
   "execution_count": 51,
   "metadata": {},
   "outputs": [
    {
     "name": "stdout",
     "output_type": "stream",
     "text": [
      "[1, 2, 3, 4, 5, 6, 7, 8]\n",
      "[1, 2, 3, 4, 5, 6, 7, 8, 5, 6, 7, 8]\n"
     ]
    }
   ],
   "source": [
    "l=[1,2,3,4]\n",
    "k=[5,6,7,8]\n",
    "l.extend(k)\n",
    "print(l)\n",
    "l=l+k\n",
    "print(l)"
   ]
  },
  {
   "cell_type": "markdown",
   "metadata": {},
   "source": [
    "#### Delete element - index based"
   ]
  },
  {
   "cell_type": "code",
   "execution_count": 53,
   "metadata": {},
   "outputs": [
    {
     "name": "stdout",
     "output_type": "stream",
     "text": [
      "[1, 2, 3]\n",
      "[1, 3]\n"
     ]
    }
   ],
   "source": [
    "l=[1,2,3,4]\n",
    "k=[5,6,7,8]\n",
    "l.pop()\n",
    "print(l)\n",
    "l.pop(1)\n",
    "print(l)"
   ]
  },
  {
   "cell_type": "markdown",
   "metadata": {},
   "source": [
    "#### Remove element using value"
   ]
  },
  {
   "cell_type": "code",
   "execution_count": 54,
   "metadata": {},
   "outputs": [
    {
     "name": "stdout",
     "output_type": "stream",
     "text": [
      "[123, 153, 163]\n"
     ]
    }
   ],
   "source": [
    "l=[123,143,153,163]\n",
    "l.remove(143)\n",
    "print(l)"
   ]
  },
  {
   "cell_type": "markdown",
   "metadata": {},
   "source": [
    "#### Length of List"
   ]
  },
  {
   "cell_type": "code",
   "execution_count": 57,
   "metadata": {},
   "outputs": [
    {
     "data": {
      "text/plain": [
       "3"
      ]
     },
     "execution_count": 57,
     "metadata": {},
     "output_type": "execute_result"
    }
   ],
   "source": [
    "len(l)"
   ]
  },
  {
   "cell_type": "markdown",
   "metadata": {},
   "source": [
    "#### Count an element"
   ]
  },
  {
   "cell_type": "code",
   "execution_count": 70,
   "metadata": {},
   "outputs": [
    {
     "data": {
      "text/plain": [
       "1"
      ]
     },
     "execution_count": 70,
     "metadata": {},
     "output_type": "execute_result"
    }
   ],
   "source": [
    "l=[5,1,2,1,2,3,1,4,1]\n",
    "l.count(1)"
   ]
  },
  {
   "cell_type": "markdown",
   "metadata": {},
   "source": [
    "#### Index of element"
   ]
  },
  {
   "cell_type": "code",
   "execution_count": 69,
   "metadata": {},
   "outputs": [
    {
     "name": "stdout",
     "output_type": "stream",
     "text": [
      "7\n"
     ]
    },
    {
     "data": {
      "text/plain": [
       "1"
      ]
     },
     "execution_count": 69,
     "metadata": {},
     "output_type": "execute_result"
    }
   ],
   "source": [
    "print(l.index(4))\n",
    "l.index(1)"
   ]
  },
  {
   "cell_type": "markdown",
   "metadata": {},
   "source": [
    "#### Clear a list"
   ]
  },
  {
   "cell_type": "code",
   "execution_count": 61,
   "metadata": {},
   "outputs": [
    {
     "data": {
      "text/plain": [
       "[]"
      ]
     },
     "execution_count": 61,
     "metadata": {},
     "output_type": "execute_result"
    }
   ],
   "source": [
    "l.clear()\n",
    "l"
   ]
  },
  {
   "cell_type": "markdown",
   "metadata": {},
   "source": [
    "### Input a list"
   ]
  },
  {
   "cell_type": "code",
   "execution_count": 1,
   "metadata": {},
   "outputs": [
    {
     "name": "stdout",
     "output_type": "stream",
     "text": [
      "Enter elements : 1,4,2,6,3,7,8\n",
      "['1', '4', '2', '6', '3', '7', '8']\n",
      "[1, 4, 2, 6, 3, 7, 8]\n"
     ]
    }
   ],
   "source": [
    "n=input(\"Enter elements : \")\n",
    "a=n.split(\",\")\n",
    "li=[]\n",
    "print(a)\n",
    "for i in a:\n",
    "    if i.isdigit():\n",
    "        i=int(i)\n",
    "        li.append(i)\n",
    "print(li)"
   ]
  },
  {
   "cell_type": "markdown",
   "metadata": {},
   "source": [
    "### Second largest element"
   ]
  },
  {
   "cell_type": "code",
   "execution_count": 2,
   "metadata": {},
   "outputs": [
    {
     "name": "stdout",
     "output_type": "stream",
     "text": [
      "Enter elements : 1,3,5,2,6,3,7,8\n",
      "second largest element is  7\n"
     ]
    }
   ],
   "source": [
    "n=input(\"Enter elements : \")\n",
    "a=n.split(\",\")\n",
    "li=[]\n",
    "for i in a:\n",
    "    if i.isdigit():\n",
    "        i=int(i)\n",
    "        li.append(i)\n",
    "li.sort(reverse = True)\n",
    "print(\"second largest element is \",li[1])"
   ]
  },
  {
   "cell_type": "markdown",
   "metadata": {},
   "source": [
    "### Unique List"
   ]
  },
  {
   "cell_type": "code",
   "execution_count": 103,
   "metadata": {},
   "outputs": [
    {
     "name": "stdout",
     "output_type": "stream",
     "text": [
      "Enter elements : 1,2,3,4,5,1,2,6,7,2\n",
      "[1, 2, 3, 4, 5, 1, 2, 6, 7, 2]\n",
      "Unique list\n",
      "[1, 2, 3, 4, 5, 6, 7]\n"
     ]
    }
   ],
   "source": [
    "n=input(\"Enter elements : \")\n",
    "a=n.split(\",\")\n",
    "li=[]\n",
    "for i in a:\n",
    "    if i.isdigit():\n",
    "        i=int(i)\n",
    "        li.append(i)\n",
    "print(li)\n",
    "l2=[]\n",
    "for i in li:\n",
    "    if i not in l2:\n",
    "        l2.append(i)\n",
    "print(\"Unique list\")\n",
    "print(l2)"
   ]
  },
  {
   "cell_type": "markdown",
   "metadata": {},
   "source": [
    "### Search an element"
   ]
  },
  {
   "cell_type": "code",
   "execution_count": 101,
   "metadata": {},
   "outputs": [
    {
     "name": "stdout",
     "output_type": "stream",
     "text": [
      "Enter elements : 1,2,3,4,5,6\n"
     ]
    },
    {
     "data": {
      "text/plain": [
       "True"
      ]
     },
     "execution_count": 101,
     "metadata": {},
     "output_type": "execute_result"
    }
   ],
   "source": [
    "def search(li,value):\n",
    "    if value in li:\n",
    "        return True\n",
    "    else:\n",
    "        return False\n",
    "n=input(\"Enter elements : \")\n",
    "a=n.split(\",\")\n",
    "li=[]\n",
    "for i in a:\n",
    "    if i.isdigit():\n",
    "        i=int(i)\n",
    "        li.append(i)\n",
    "search(li,5)"
   ]
  },
  {
   "cell_type": "markdown",
   "metadata": {},
   "source": [
    "### Tuples"
   ]
  },
  {
   "cell_type": "markdown",
   "metadata": {},
   "source": [
    "### Input from keyboard"
   ]
  },
  {
   "cell_type": "code",
   "execution_count": 11,
   "metadata": {},
   "outputs": [
    {
     "name": "stdout",
     "output_type": "stream",
     "text": [
      "Enter elements : 1,2,5,3,7,5\n"
     ]
    },
    {
     "data": {
      "text/plain": [
       "(1, 2, 5, 3, 7, 5)"
      ]
     },
     "execution_count": 11,
     "metadata": {},
     "output_type": "execute_result"
    }
   ],
   "source": [
    "n=input(\"Enter elements : \")\n",
    "a=n.split(\",\")\n",
    "li=[]\n",
    "for i in a:\n",
    "    if i.isdigit():\n",
    "        i=int(i)\n",
    "        li.append(i)\n",
    "t=tuple(li)\n",
    "t"
   ]
  },
  {
   "cell_type": "markdown",
   "metadata": {},
   "source": [
    "### Length"
   ]
  },
  {
   "cell_type": "code",
   "execution_count": 4,
   "metadata": {},
   "outputs": [
    {
     "data": {
      "text/plain": [
       "5"
      ]
     },
     "execution_count": 4,
     "metadata": {},
     "output_type": "execute_result"
    }
   ],
   "source": [
    "len(t)"
   ]
  },
  {
   "cell_type": "markdown",
   "metadata": {},
   "source": [
    "### Count"
   ]
  },
  {
   "cell_type": "code",
   "execution_count": 5,
   "metadata": {},
   "outputs": [
    {
     "data": {
      "text/plain": [
       "1"
      ]
     },
     "execution_count": 5,
     "metadata": {},
     "output_type": "execute_result"
    }
   ],
   "source": [
    "t.count(2)"
   ]
  },
  {
   "cell_type": "markdown",
   "metadata": {},
   "source": [
    "### Index"
   ]
  },
  {
   "cell_type": "code",
   "execution_count": 6,
   "metadata": {},
   "outputs": [
    {
     "data": {
      "text/plain": [
       "3"
      ]
     },
     "execution_count": 6,
     "metadata": {},
     "output_type": "execute_result"
    }
   ],
   "source": [
    "t.index(6)"
   ]
  },
  {
   "cell_type": "markdown",
   "metadata": {},
   "source": [
    "### Min"
   ]
  },
  {
   "cell_type": "code",
   "execution_count": 12,
   "metadata": {},
   "outputs": [
    {
     "data": {
      "text/plain": [
       "1"
      ]
     },
     "execution_count": 12,
     "metadata": {},
     "output_type": "execute_result"
    }
   ],
   "source": [
    "min(t)"
   ]
  },
  {
   "cell_type": "markdown",
   "metadata": {},
   "source": [
    "### Max"
   ]
  },
  {
   "cell_type": "code",
   "execution_count": 13,
   "metadata": {},
   "outputs": [
    {
     "data": {
      "text/plain": [
       "7"
      ]
     },
     "execution_count": 13,
     "metadata": {},
     "output_type": "execute_result"
    }
   ],
   "source": [
    "max(t)"
   ]
  },
  {
   "cell_type": "markdown",
   "metadata": {},
   "source": [
    "### Delete"
   ]
  },
  {
   "cell_type": "code",
   "execution_count": 8,
   "metadata": {},
   "outputs": [
    {
     "ename": "NameError",
     "evalue": "name 't' is not defined",
     "output_type": "error",
     "traceback": [
      "\u001b[1;31m---------------------------------------------------------------------------\u001b[0m",
      "\u001b[1;31mNameError\u001b[0m                                 Traceback (most recent call last)",
      "\u001b[1;32m<ipython-input-8-f12e3a84697c>\u001b[0m in \u001b[0;36m<module>\u001b[1;34m\u001b[0m\n\u001b[1;32m----> 1\u001b[1;33m \u001b[1;32mdel\u001b[0m\u001b[1;33m(\u001b[0m\u001b[0mt\u001b[0m\u001b[1;33m)\u001b[0m\u001b[1;33m\u001b[0m\u001b[1;33m\u001b[0m\u001b[0m\n\u001b[0m\u001b[0;32m      2\u001b[0m \u001b[0mt\u001b[0m\u001b[1;33m\u001b[0m\u001b[1;33m\u001b[0m\u001b[0m\n",
      "\u001b[1;31mNameError\u001b[0m: name 't' is not defined"
     ]
    }
   ],
   "source": [
    "del(t)\n",
    "t"
   ]
  },
  {
   "cell_type": "markdown",
   "metadata": {},
   "source": [
    "# Sets\n",
    "set={}"
   ]
  },
  {
   "cell_type": "markdown",
   "metadata": {},
   "source": [
    "### Input from keyboard"
   ]
  },
  {
   "cell_type": "code",
   "execution_count": 16,
   "metadata": {},
   "outputs": [
    {
     "name": "stdout",
     "output_type": "stream",
     "text": [
      "Enter elements : 1,2,4,3,5,6\n"
     ]
    },
    {
     "data": {
      "text/plain": [
       "{1, 2, 3, 4, 5, 6}"
      ]
     },
     "execution_count": 16,
     "metadata": {},
     "output_type": "execute_result"
    }
   ],
   "source": [
    "n=input(\"Enter elements : \")\n",
    "a=n.split(\",\")\n",
    "li=[]\n",
    "for i in a:\n",
    "    if i.isdigit():\n",
    "        i=int(i)\n",
    "        li.append(i)\n",
    "s=set(li)\n",
    "s"
   ]
  },
  {
   "cell_type": "markdown",
   "metadata": {},
   "source": [
    "### Difference"
   ]
  },
  {
   "cell_type": "code",
   "execution_count": 18,
   "metadata": {},
   "outputs": [
    {
     "data": {
      "text/plain": [
       "{1, 2, 3, 4, 9, 77}"
      ]
     },
     "execution_count": 18,
     "metadata": {},
     "output_type": "execute_result"
    }
   ],
   "source": [
    "l={1,2,3,4,5,5,77,9,8}\n",
    "n={5,0,8,6,5,5}\n",
    "l.difference(n)"
   ]
  },
  {
   "cell_type": "markdown",
   "metadata": {},
   "source": [
    "### Difference update"
   ]
  },
  {
   "cell_type": "code",
   "execution_count": 20,
   "metadata": {},
   "outputs": [
    {
     "name": "stdout",
     "output_type": "stream",
     "text": [
      "{1, 2, 3, 4, 5, 8, 9, 77}\n",
      "{1, 2, 3, 4, 9, 77}\n"
     ]
    }
   ],
   "source": [
    "print(l)\n",
    "l.difference_update(n)\n",
    "print(l)"
   ]
  },
  {
   "cell_type": "markdown",
   "metadata": {},
   "source": [
    "### Intersection"
   ]
  },
  {
   "cell_type": "code",
   "execution_count": 21,
   "metadata": {},
   "outputs": [
    {
     "data": {
      "text/plain": [
       "{5, 8}"
      ]
     },
     "execution_count": 21,
     "metadata": {},
     "output_type": "execute_result"
    }
   ],
   "source": [
    "l={1,2,3,4,5,5,77,9,8}\n",
    "n={5,0,8,6,5,5}\n",
    "l.intersection(n)"
   ]
  },
  {
   "cell_type": "markdown",
   "metadata": {},
   "source": [
    "### Intersection update"
   ]
  },
  {
   "cell_type": "code",
   "execution_count": 22,
   "metadata": {},
   "outputs": [
    {
     "data": {
      "text/plain": [
       "{5, 8}"
      ]
     },
     "execution_count": 22,
     "metadata": {},
     "output_type": "execute_result"
    }
   ],
   "source": [
    "l.intersection_update(n)\n",
    "l"
   ]
  },
  {
   "cell_type": "markdown",
   "metadata": {},
   "source": [
    "### Is disjoint"
   ]
  },
  {
   "cell_type": "code",
   "execution_count": 23,
   "metadata": {},
   "outputs": [
    {
     "data": {
      "text/plain": [
       "False"
      ]
     },
     "execution_count": 23,
     "metadata": {},
     "output_type": "execute_result"
    }
   ],
   "source": [
    "l={1,2,3,4,5,5,77,9,8}\n",
    "n={5,0,8,6,5,5}\n",
    "l.isdisjoint(n)"
   ]
  },
  {
   "cell_type": "markdown",
   "metadata": {},
   "source": [
    "### Is subset"
   ]
  },
  {
   "cell_type": "code",
   "execution_count": 25,
   "metadata": {},
   "outputs": [
    {
     "data": {
      "text/plain": [
       "True"
      ]
     },
     "execution_count": 25,
     "metadata": {},
     "output_type": "execute_result"
    }
   ],
   "source": [
    "l={1,2,3,4,5}\n",
    "k={1,2,3,4,5,6,7,8,9}\n",
    "l.issubset(k)"
   ]
  },
  {
   "cell_type": "markdown",
   "metadata": {},
   "source": [
    "### Is superset"
   ]
  },
  {
   "cell_type": "code",
   "execution_count": 26,
   "metadata": {},
   "outputs": [
    {
     "data": {
      "text/plain": [
       "True"
      ]
     },
     "execution_count": 26,
     "metadata": {},
     "output_type": "execute_result"
    }
   ],
   "source": [
    "k.issuperset(l)"
   ]
  },
  {
   "cell_type": "markdown",
   "metadata": {},
   "source": [
    "### Symetric difference"
   ]
  },
  {
   "cell_type": "code",
   "execution_count": 28,
   "metadata": {},
   "outputs": [
    {
     "data": {
      "text/plain": [
       "{0, 1, 2, 3, 4, 6, 9, 77}"
      ]
     },
     "execution_count": 28,
     "metadata": {},
     "output_type": "execute_result"
    }
   ],
   "source": [
    "l={1,2,3,4,5,5,77,9,8}\n",
    "n={5,0,8,6,5,5}\n",
    "l.symmetric_difference(n)"
   ]
  },
  {
   "cell_type": "markdown",
   "metadata": {},
   "source": [
    "### Union"
   ]
  },
  {
   "cell_type": "code",
   "execution_count": 29,
   "metadata": {},
   "outputs": [
    {
     "data": {
      "text/plain": [
       "{0, 1, 2, 3, 4, 5, 6, 8, 9, 77}"
      ]
     },
     "execution_count": 29,
     "metadata": {},
     "output_type": "execute_result"
    }
   ],
   "source": [
    "l.union(n)"
   ]
  },
  {
   "cell_type": "markdown",
   "metadata": {},
   "source": [
    "### Remove"
   ]
  },
  {
   "cell_type": "code",
   "execution_count": 30,
   "metadata": {},
   "outputs": [
    {
     "data": {
      "text/plain": [
       "{1, 2, 3, 4, 5, 8, 9}"
      ]
     },
     "execution_count": 30,
     "metadata": {},
     "output_type": "execute_result"
    }
   ],
   "source": [
    "l.remove(77)\n",
    "l"
   ]
  },
  {
   "cell_type": "markdown",
   "metadata": {},
   "source": [
    "### Discard"
   ]
  },
  {
   "cell_type": "code",
   "execution_count": 32,
   "metadata": {
    "scrolled": true
   },
   "outputs": [
    {
     "data": {
      "text/plain": [
       "{1, 2, 3, 4, 5, 8, 9}"
      ]
     },
     "execution_count": 32,
     "metadata": {},
     "output_type": "execute_result"
    }
   ],
   "source": [
    "l.discard(6)\n",
    "l"
   ]
  },
  {
   "cell_type": "markdown",
   "metadata": {},
   "source": [
    "### Remove VS Discard"
   ]
  },
  {
   "cell_type": "code",
   "execution_count": 34,
   "metadata": {},
   "outputs": [
    {
     "ename": "KeyError",
     "evalue": "9",
     "output_type": "error",
     "traceback": [
      "\u001b[1;31m---------------------------------------------------------------------------\u001b[0m",
      "\u001b[1;31mKeyError\u001b[0m                                  Traceback (most recent call last)",
      "\u001b[1;32m<ipython-input-34-2e4f732c7741>\u001b[0m in \u001b[0;36m<module>\u001b[1;34m\u001b[0m\n\u001b[1;32m----> 1\u001b[1;33m \u001b[0ml\u001b[0m\u001b[1;33m.\u001b[0m\u001b[0mremove\u001b[0m\u001b[1;33m(\u001b[0m\u001b[1;36m9\u001b[0m\u001b[1;33m)\u001b[0m\u001b[1;33m\u001b[0m\u001b[1;33m\u001b[0m\u001b[0m\n\u001b[0m",
      "\u001b[1;31mKeyError\u001b[0m: 9"
     ]
    }
   ],
   "source": [
    "l.remove(9)"
   ]
  },
  {
   "cell_type": "code",
   "execution_count": 37,
   "metadata": {},
   "outputs": [
    {
     "name": "stdout",
     "output_type": "stream",
     "text": [
      "None\n"
     ]
    }
   ],
   "source": [
    "print(l.discard(9))\n"
   ]
  },
  {
   "cell_type": "markdown",
   "metadata": {},
   "source": [
    "## Dictionaries\n",
    "- collection of items which has the pair of key and values\n",
    "- It is unordered\n",
    "- Keys must be unique but values allows duplicates\n",
    "- Mutable\n",
    "- Represented with \n",
    "- keys and values are seperated by column(:"
   ]
  },
  {
   "cell_type": "code",
   "execution_count": 3,
   "metadata": {},
   "outputs": [
    {
     "name": "stdout",
     "output_type": "stream",
     "text": [
      "<class 'set'>\n"
     ]
    },
    {
     "data": {
      "text/plain": [
       "dict"
      ]
     },
     "execution_count": 3,
     "metadata": {},
     "output_type": "execute_result"
    }
   ],
   "source": [
    "a=set()\n",
    "print(type(a))\n",
    "d={}\n",
    "type(d)"
   ]
  },
  {
   "cell_type": "code",
   "execution_count": 5,
   "metadata": {},
   "outputs": [
    {
     "data": {
      "text/plain": [
       "{1: 'one', 2: 'tooo', 'three': 3}"
      ]
     },
     "execution_count": 5,
     "metadata": {},
     "output_type": "execute_result"
    }
   ],
   "source": [
    "d={1:\"one\",2:\"tooo\",\"three\":3}\n",
    "d"
   ]
  },
  {
   "cell_type": "code",
   "execution_count": 8,
   "metadata": {},
   "outputs": [
    {
     "data": {
      "text/plain": [
       "{1: 'one', 2: 'two', 'three': 3}"
      ]
     },
     "execution_count": 8,
     "metadata": {},
     "output_type": "execute_result"
    }
   ],
   "source": [
    "d[2]=\"two\"\n",
    "d"
   ]
  },
  {
   "cell_type": "code",
   "execution_count": 10,
   "metadata": {},
   "outputs": [
    {
     "data": {
      "text/plain": [
       "{1: 'one', 2: 'one', 'three': 3}"
      ]
     },
     "execution_count": 10,
     "metadata": {},
     "output_type": "execute_result"
    }
   ],
   "source": [
    "d[2]=\"one\"\n",
    "d"
   ]
  },
  {
   "cell_type": "code",
   "execution_count": 12,
   "metadata": {},
   "outputs": [
    {
     "data": {
      "text/plain": [
       "{1: 'one', 2: 'one', 'three': 3, 5: 'five', 6: 'six', 7: 'seven'}"
      ]
     },
     "execution_count": 12,
     "metadata": {},
     "output_type": "execute_result"
    }
   ],
   "source": [
    "d2={5:\"five\",6:\"six\",7:\"seven\"}\n",
    "d.update(d2)\n",
    "d"
   ]
  },
  {
   "cell_type": "code",
   "execution_count": 13,
   "metadata": {},
   "outputs": [
    {
     "data": {
      "text/plain": [
       "'one'"
      ]
     },
     "execution_count": 13,
     "metadata": {},
     "output_type": "execute_result"
    }
   ],
   "source": [
    "d.get(2)"
   ]
  },
  {
   "cell_type": "code",
   "execution_count": 14,
   "metadata": {},
   "outputs": [
    {
     "data": {
      "text/plain": [
       "dict_items([(1, 'one'), (2, 'one'), ('three', 3), (5, 'five'), (6, 'six'), (7, 'seven')])"
      ]
     },
     "execution_count": 14,
     "metadata": {},
     "output_type": "execute_result"
    }
   ],
   "source": [
    "d.items()"
   ]
  },
  {
   "cell_type": "code",
   "execution_count": 16,
   "metadata": {},
   "outputs": [
    {
     "data": {
      "text/plain": [
       "dict_keys([1, 2, 'three', 5, 6, 7])"
      ]
     },
     "execution_count": 16,
     "metadata": {},
     "output_type": "execute_result"
    }
   ],
   "source": [
    "d.keys()"
   ]
  },
  {
   "cell_type": "code",
   "execution_count": 15,
   "metadata": {},
   "outputs": [
    {
     "data": {
      "text/plain": [
       "dict_values(['one', 'one', 3, 'five', 'six', 'seven'])"
      ]
     },
     "execution_count": 15,
     "metadata": {},
     "output_type": "execute_result"
    }
   ],
   "source": [
    "d2={5:\"five\",6:\"six\",7:\"seven\"}\n",
    "d.values()"
   ]
  },
  {
   "cell_type": "markdown",
   "metadata": {},
   "source": [
    "### Another way to declare dictionary"
   ]
  },
  {
   "cell_type": "code",
   "execution_count": 18,
   "metadata": {},
   "outputs": [
    {
     "data": {
      "text/plain": [
       "{1: 'one', 2: 'two'}"
      ]
     },
     "execution_count": 18,
     "metadata": {},
     "output_type": "execute_result"
    }
   ],
   "source": [
    "c=dict([(1,\"one\"),(2,\"two\")])\n",
    "c"
   ]
  },
  {
   "cell_type": "code",
   "execution_count": 19,
   "metadata": {},
   "outputs": [
    {
     "data": {
      "text/plain": [
       "{1: 'one', 'three': 3, 5: 'five', 6: 'six', 7: 'seven'}"
      ]
     },
     "execution_count": 19,
     "metadata": {},
     "output_type": "execute_result"
    }
   ],
   "source": [
    "d.pop(2)\n",
    "d"
   ]
  },
  {
   "cell_type": "code",
   "execution_count": 21,
   "metadata": {},
   "outputs": [
    {
     "data": {
      "text/plain": [
       "{1: 'one', 'three': 3, 5: 'five', 6: 'six'}"
      ]
     },
     "execution_count": 21,
     "metadata": {},
     "output_type": "execute_result"
    }
   ],
   "source": [
    "# Recently inserted element will be deleted\n",
    "d.popitem()\n",
    "d"
   ]
  },
  {
   "cell_type": "code",
   "execution_count": 24,
   "metadata": {},
   "outputs": [
    {
     "data": {
      "text/plain": [
       "{5: 'laxman', 6: 'laxman', 7: 'laxman'}"
      ]
     },
     "execution_count": 24,
     "metadata": {},
     "output_type": "execute_result"
    }
   ],
   "source": [
    "d2={5:\"five\",6:\"six\",7:\"seven\"}\n",
    "d.fromkeys(d2,\"laxman\")"
   ]
  },
  {
   "cell_type": "code",
   "execution_count": 25,
   "metadata": {},
   "outputs": [
    {
     "data": {
      "text/plain": [
       "'hi'"
      ]
     },
     "execution_count": 25,
     "metadata": {},
     "output_type": "execute_result"
    }
   ],
   "source": [
    "d2.setdefault(4,\"hi\")"
   ]
  },
  {
   "cell_type": "markdown",
   "metadata": {},
   "source": [
    "### Create Contacts"
   ]
  },
  {
   "cell_type": "code",
   "execution_count": 12,
   "metadata": {},
   "outputs": [
    {
     "name": "stdout",
     "output_type": "stream",
     "text": [
      "No of inputs : 3\n",
      "laxman 918367027220\n",
      "Contact created sucessfully\n",
      "dileep 6300189625\n",
      "Contact created sucessfully\n",
      "dad 09052083710\n",
      "Contact created sucessfully\n",
      "Contacts : \n",
      "{'laxman': 918367027220, 'dileep': 6300189625, 'dad': 9052083710}\n"
     ]
    }
   ],
   "source": [
    "contacts={}\n",
    "import re\n",
    "pattern=\"(0|91)?[6-9][0-9]{9}$\"\n",
    "def pv(p):\n",
    "    if re.match(pattern,p):\n",
    "        return 1\n",
    "    else:\n",
    "        return 0\n",
    "def create(name,num):\n",
    "    if name not in contacts:\n",
    "        if pv(str(num)):\n",
    "            contacts[name]=int(num)\n",
    "            print(\"Contact created sucessfully\")\n",
    "        else:\n",
    "            print(\"Invalid phone number\")\n",
    "            j=int(input(\"Enter phone number :\"))\n",
    "            create(name,j)\n",
    "    else:\n",
    "        print(\"Name already exists\")\n",
    "n=int(input(\"No of inputs : \"))\n",
    "for i in range(n):\n",
    "    a=input().split()\n",
    "    b=a[0]\n",
    "    c=a[1]\n",
    "    d=int(c)\n",
    "    create(b,d)\n",
    "print(\"Contacts : \")\n",
    "print(contacts)"
   ]
  },
  {
   "cell_type": "markdown",
   "metadata": {},
   "source": [
    "### Edit contact"
   ]
  },
  {
   "cell_type": "code",
   "execution_count": 13,
   "metadata": {},
   "outputs": [
    {
     "name": "stdout",
     "output_type": "stream",
     "text": [
      "dad 09849297205\n",
      "Contact updated sucessfully\n"
     ]
    },
    {
     "data": {
      "text/plain": [
       "{'laxman': 918367027220, 'dileep': 6300189625, 'dad': 9849297205}"
      ]
     },
     "execution_count": 13,
     "metadata": {},
     "output_type": "execute_result"
    }
   ],
   "source": [
    "import re\n",
    "pattern=\"(0|91)?[6-9][0-9]{9}$\"\n",
    "def edit(name,num):\n",
    "    if re.match(pattern,num):\n",
    "        contacts[name]=int(num)\n",
    "        print(\"Contact updated sucessfully\")\n",
    "    else:\n",
    "        print(\"Invalid phone number\")\n",
    "        s=input(\"Enter phone number : \")\n",
    "        edit(name,s)\n",
    "x=input().split()\n",
    "l=x[0]\n",
    "k=x[1]\n",
    "edit(l,k)\n",
    "contacts"
   ]
  },
  {
   "cell_type": "markdown",
   "metadata": {},
   "source": [
    "### Delete Contact"
   ]
  },
  {
   "cell_type": "code",
   "execution_count": 14,
   "metadata": {},
   "outputs": [
    {
     "name": "stdout",
     "output_type": "stream",
     "text": [
      "Enter name to delete : dileep\n",
      "Contact deleted sucessfully\n"
     ]
    },
    {
     "data": {
      "text/plain": [
       "{'laxman': 918367027220, 'dad': 9849297205}"
      ]
     },
     "execution_count": 14,
     "metadata": {},
     "output_type": "execute_result"
    }
   ],
   "source": [
    "def delete(name):\n",
    "    if name in contacts:\n",
    "        contacts.pop(name)\n",
    "        print(\"Contact deleted sucessfully\")\n",
    "    else:\n",
    "        print(\"Contact does not exist\")\n",
    "x=input(\"Enter name to delete : \")\n",
    "delete(x)\n",
    "contacts"
   ]
  },
  {
   "cell_type": "code",
   "execution_count": 1,
   "metadata": {},
   "outputs": [
    {
     "name": "stdout",
     "output_type": "stream",
     "text": [
      "['False', 'None', 'True', 'and', 'as', 'assert', 'async', 'await', 'break', 'class', 'continue', 'def', 'del', 'elif', 'else', 'except', 'finally', 'for', 'from', 'global', 'if', 'import', 'in', 'is', 'lambda', 'nonlocal', 'not', 'or', 'pass', 'raise', 'return', 'try', 'while', 'with', 'yield'] "
     ]
    }
   ],
   "source": [
    "import keyword\n",
    "print(keyword.kwlist,end=\" \")"
   ]
  },
  {
   "cell_type": "markdown",
   "metadata": {},
   "source": [
    "### Regular expressions \n",
    "- Pattern matching\n",
    "- Match()\n",
    "- Search()\n",
    "- Findall()"
   ]
  },
  {
   "cell_type": "markdown",
   "metadata": {},
   "source": [
    "\n",
    "#### Matching "
   ]
  },
  {
   "cell_type": "code",
   "execution_count": 1,
   "metadata": {},
   "outputs": [
    {
     "data": {
      "text/plain": [
       "<re.Match object; span=(0, 3), match='lax'>"
      ]
     },
     "execution_count": 1,
     "metadata": {},
     "output_type": "execute_result"
    }
   ],
   "source": [
    "import re\n",
    "re.match('lax','laxman')"
   ]
  },
  {
   "cell_type": "markdown",
   "metadata": {},
   "source": [
    "#### Search"
   ]
  },
  {
   "cell_type": "code",
   "execution_count": 2,
   "metadata": {},
   "outputs": [
    {
     "data": {
      "text/plain": [
       "<re.Match object; span=(1, 2), match='a'>"
      ]
     },
     "execution_count": 2,
     "metadata": {},
     "output_type": "execute_result"
    }
   ],
   "source": [
    "# First occurence\n",
    "import re\n",
    "re.search('a','laxman')"
   ]
  },
  {
   "cell_type": "markdown",
   "metadata": {},
   "source": [
    "#### Print all required string"
   ]
  },
  {
   "cell_type": "code",
   "execution_count": 3,
   "metadata": {},
   "outputs": [
    {
     "data": {
      "text/plain": [
       "['a', 'a']"
      ]
     },
     "execution_count": 3,
     "metadata": {},
     "output_type": "execute_result"
    }
   ],
   "source": [
    "import re\n",
    "re.findall('a','laxman')"
   ]
  },
  {
   "cell_type": "markdown",
   "metadata": {},
   "source": [
    "### Pattern matching"
   ]
  },
  {
   "cell_type": "markdown",
   "metadata": {},
   "source": [
    "^ - Begining of the line<br>\n",
    "$ - Ending of the line<br>\n",
    "\\s - white spaces are allowed<br>\n",
    "\\S - not Allow white spaces<br>\n",
    "\\d - allow digits\n",
    "\\D - not allow digits only\n",
    ". - Allow any one character\n",
    "+ - repeat\n",
    "* - repeat zero  or more character\n",
    "[a,b,r] - must begin with any element\n",
    "[a-o] range\n",
    "{5} - only 5\n",
    "{3,9} min 3 or max 9\n"
   ]
  },
  {
   "cell_type": "code",
   "execution_count": 7,
   "metadata": {},
   "outputs": [
    {
     "data": {
      "text/plain": [
       "[' ']"
      ]
     },
     "execution_count": 7,
     "metadata": {},
     "output_type": "execute_result"
    }
   ],
   "source": [
    "import re\n",
    "re.findall(\"\\s\",\"lakshmana rao\")"
   ]
  },
  {
   "cell_type": "code",
   "execution_count": 8,
   "metadata": {},
   "outputs": [
    {
     "data": {
      "text/plain": [
       "['l', 'a', 'k', 's', 'h', 'm', 'a', 'n', 'a', 'r', 'a', 'o']"
      ]
     },
     "execution_count": 8,
     "metadata": {},
     "output_type": "execute_result"
    }
   ],
   "source": [
    "import re\n",
    "re.findall(\"\\S\",\"lakshmana rao\")"
   ]
  },
  {
   "cell_type": "code",
   "execution_count": 9,
   "metadata": {},
   "outputs": [
    {
     "data": {
      "text/plain": [
       "['1', '2', '3']"
      ]
     },
     "execution_count": 9,
     "metadata": {},
     "output_type": "execute_result"
    }
   ],
   "source": [
    "import re\n",
    "re.findall(\"\\d\",\"123lakshmana rao\")"
   ]
  },
  {
   "cell_type": "code",
   "execution_count": 10,
   "metadata": {},
   "outputs": [
    {
     "data": {
      "text/plain": [
       "['l', 'a', 'k', 's', 'h', 'm', 'a', 'n', 'a', ' ', 'r', 'a', 'o']"
      ]
     },
     "execution_count": 10,
     "metadata": {},
     "output_type": "execute_result"
    }
   ],
   "source": [
    "import re\n",
    "re.findall(\"\\D\",\"123lakshmana rao\")"
   ]
  },
  {
   "cell_type": "code",
   "execution_count": 11,
   "metadata": {},
   "outputs": [
    {
     "data": {
      "text/plain": [
       "['la']"
      ]
     },
     "execution_count": 11,
     "metadata": {},
     "output_type": "execute_result"
    }
   ],
   "source": [
    "import re\n",
    "re.findall(\"^.a\",\"lakshmana rao\")"
   ]
  },
  {
   "cell_type": "code",
   "execution_count": 13,
   "metadata": {},
   "outputs": [
    {
     "data": {
      "text/plain": [
       "[]"
      ]
     },
     "execution_count": 13,
     "metadata": {},
     "output_type": "execute_result"
    }
   ],
   "source": [
    "import re\n",
    "re.findall(\"^..a\",\"lakshmana rao\")"
   ]
  },
  {
   "cell_type": "code",
   "execution_count": 14,
   "metadata": {},
   "outputs": [
    {
     "data": {
      "text/plain": [
       "['lakshmana rao']"
      ]
     },
     "execution_count": 14,
     "metadata": {},
     "output_type": "execute_result"
    }
   ],
   "source": [
    "import re\n",
    "re.findall(\"^l.+\",\"lakshmana rao\")"
   ]
  },
  {
   "cell_type": "code",
   "execution_count": 16,
   "metadata": {},
   "outputs": [
    {
     "data": {
      "text/plain": [
       "['kshmana rao']"
      ]
     },
     "execution_count": 16,
     "metadata": {},
     "output_type": "execute_result"
    }
   ],
   "source": [
    "import re\n",
    "re.findall(\"k.*\",\"lakshmana rao\")"
   ]
  },
  {
   "cell_type": "code",
   "execution_count": 17,
   "metadata": {},
   "outputs": [
    {
     "data": {
      "text/plain": [
       "[]"
      ]
     },
     "execution_count": 17,
     "metadata": {},
     "output_type": "execute_result"
    }
   ],
   "source": [
    "import re\n",
    "re.findall(\"o.+\",\"lakshmana rao\")"
   ]
  },
  {
   "cell_type": "code",
   "execution_count": 18,
   "metadata": {},
   "outputs": [
    {
     "data": {
      "text/plain": [
       "['o']"
      ]
     },
     "execution_count": 18,
     "metadata": {},
     "output_type": "execute_result"
    }
   ],
   "source": [
    "import re\n",
    "re.findall(\"o.*\",\"lakshmana rao\")"
   ]
  },
  {
   "cell_type": "code",
   "execution_count": 21,
   "metadata": {},
   "outputs": [
    {
     "data": {
      "text/plain": [
       "<re.Match object; span=(0, 1), match='l'>"
      ]
     },
     "execution_count": 21,
     "metadata": {},
     "output_type": "execute_result"
    }
   ],
   "source": [
    "# must begin with\n",
    "import re\n",
    "re.match(\"^[a-o]\",\"lakshmana rao\")"
   ]
  },
  {
   "cell_type": "code",
   "execution_count": 22,
   "metadata": {},
   "outputs": [],
   "source": [
    "# must not begin with\n",
    "import re\n",
    "re.match(\"[^a-o]\",\"lakshmana rao\")"
   ]
  },
  {
   "cell_type": "markdown",
   "metadata": {},
   "source": [
    "### phone number validation<br>\n",
    "- 10 digits<br>\n",
    "- start with 6-9<br>\n",
    "8367027220"
   ]
  },
  {
   "cell_type": "code",
   "execution_count": 10,
   "metadata": {},
   "outputs": [
    {
     "name": "stdout",
     "output_type": "stream",
     "text": [
      "Enter phone number : 918367027220\n",
      "Phone number is valid\n"
     ]
    }
   ],
   "source": [
    "import re\n",
    "pattern=\"(0|91)?[6-9][0-9]{9}$\"\n",
    "def pv(p):\n",
    "    if re.match(pattern,str(p)):\n",
    "        print(\"Phone number is valid\")\n",
    "    else:\n",
    "        print(\"Phone number not valid\")\n",
    "n=int(input(\"Enter phone number : \"))\n",
    "pv(n)"
   ]
  },
  {
   "cell_type": "markdown",
   "metadata": {},
   "source": [
    "###  Email verification\n",
    "- username ^[0-9a-z][a-z0-9._]{5,35}<br>\n",
    "- @ [@]<br>\n",
    "- domain name [a-z.]{4,10}<br>\n",
    "- .[.]<br>\n",
    "- extension[a-z]{2,5]"
   ]
  },
  {
   "cell_type": "code",
   "execution_count": 1,
   "metadata": {},
   "outputs": [
    {
     "name": "stdout",
     "output_type": "stream",
     "text": [
      "Enter Email : lakshmana5296@gmail.com\n",
      "Email is valid\n"
     ]
    }
   ],
   "source": [
    "import re\n",
    "pattern=\"^[0-9a-z][a-z0-9._]{5,35}[@][a-z.]{4,10}[.][a-z]{2,5}$\"\n",
    "def ev(mail):\n",
    "    if re.match(pattern,mail):\n",
    "        print(\"Email is valid\")\n",
    "    else:\n",
    "        print(\"Email not valid\")\n",
    "n=input(\"Enter Email : \")\n",
    "ev(n)"
   ]
  },
  {
   "cell_type": "code",
   "execution_count": null,
   "metadata": {},
   "outputs": [],
   "source": []
  }
 ],
 "metadata": {
  "kernelspec": {
   "display_name": "Python 3",
   "language": "python",
   "name": "python3"
  },
  "language_info": {
   "codemirror_mode": {
    "name": "ipython",
    "version": 3
   },
   "file_extension": ".py",
   "mimetype": "text/x-python",
   "name": "python",
   "nbconvert_exporter": "python",
   "pygments_lexer": "ipython3",
   "version": "3.7.1"
  }
 },
 "nbformat": 4,
 "nbformat_minor": 2
}
